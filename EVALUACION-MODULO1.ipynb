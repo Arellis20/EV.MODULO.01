{
 "cells": [
  {
   "cell_type": "markdown",
   "metadata": {},
   "source": [
    "# Evaluacíon Final Módulo 1"
   ]
  },
  {
   "cell_type": "code",
   "execution_count": 1,
   "metadata": {},
   "outputs": [],
   "source": [
    "\n",
    "class TiendaOnline:                                                                            # He creado una clase\n",
    "    def __init__(self):                                                                        # He iniciado la clase\n",
    "        self.inventario = []                                                                   # He dado tres atributos vacios a la clase\n",
    "        self.clientes = {}\n",
    "        self.ventas_totales = 0.0\n",
    "\n",
    "    def agregar_producto(self, nombre, precio, cantidad):                          \n",
    "        nuevo_producto = {\"nombre\": nombre , \"precio\": precio , \"cantidad\": cantidad }         # Esta linea se ha creado para definir variable \"nuevo_producto\" usando diccionario\n",
    "        \n",
    "        for producto in self.inventario:\n",
    "            if producto [\"nombre\"] == nombre:\n",
    "                producto[\"cantidad\"] += cantidad\n",
    "                return self.inventario\n",
    "            \n",
    "        self.inventario.append(nuevo_producto)\n",
    "\n",
    "    def ver_inventario(self):\n",
    "        for producto in self.inventario:                                                        # Usamos print() para mostrar los detalles del producto\n",
    "            print(f\"nombre: {producto['nombre']} , precio: {producto['precio']} , cantidad {producto['cantidad']}\")\n",
    " \n",
    "    def buscar_producto(self, nombre):\n",
    "        for producto in self.inventario:\n",
    "            if producto[\"nombre\"] == nombre:\n",
    "                print(f\"nombre: {producto['nombre']} , precio: {producto['precio']} , cantidad {producto['cantidad']}\")\n",
    "                return self.inventario \n",
    "        print(f\"el producto {nombre} no está en el inventario\")                                 #En esta linea no he utilizado \"else\" ya que, el valor no está establecido, y este puede entrar en bucle\n",
    "\n",
    "    def actualizar_stock(self, nombre, cantidad):                           \n",
    "        for producto in self.inventario:                                                        #Uso de bucle for\n",
    "            if producto[\"nombre\"] == nombre:\n",
    "                producto[\"cantidad\"] += cantidad\n",
    "                return self.inventario\n",
    "        print(f\"el producto {nombre} no está en el inventario\")\n",
    "\n",
    "    def eliminar_producto(self, nombre):\n",
    "        for producto in self.inventario:\n",
    "            if producto [\"nombre\"] == nombre:\n",
    "                self.inventario.remove(producto)                             #Para eliminar el producto, usamos \".remove()\"\n",
    "                print(f\"el producto {nombre} es inexistente\")\n",
    "                return self.inventario\n",
    "            \n",
    "        print(f\"el producto {nombre} no está en el inventario\")\n",
    "\n",
    "    def calcular_valor_inventario(self):\n",
    "        valor_inventario = 0                                                 #He creado una variable vacia (0) para acumular\n",
    "        for producto in self.inventario:\n",
    "            valor_inventario += producto [\"precio\"] * producto[\"cantidad\"]                             #añadirlo directamente y sumarlo al acumulador, sumando así cada valor agregado\n",
    "        print(f\"el valor total del inventario es {valor_inventario}€\")\n",
    "        return valor_inventario\n",
    "        \n",
    "    def realizar_compra(self):\n",
    "        carrito = {}                                                         #Creamos un diccionario vacio\n",
    "        compra_total = 0                                                     #Se crea esta variable para el importe total de la compra\n",
    "        while True:                                                          #Se crea el buble while para que el cliente pueda acceder al inventario \n",
    "            self.ver_inventario()\n",
    "            nombre = input(\"¿que producto quieres comprar? Pulsa 'finalizar' la compra si ya has termina\")\n",
    "            if nombre == \"finalizar\":\n",
    "                break\n",
    "            else:\n",
    "                cantidad = int(input(\"¿cuantas unidades quieres?\"))\n",
    "                for producto in self.inventario:\n",
    "                    if nombre == producto[\"nombre\"]:\n",
    "                        if producto[\"cantidad\"] >= cantidad:\n",
    "                            carrito.update({\"nombre\": nombre, \"cantidad\": cantidad}) \n",
    "                            compra_total += producto[\"precio\"] * cantidad\n",
    "                            self.actualizar_stock(producto['nombre'], - cantidad)\n",
    "                            print(f\"estos son tus productos {carrito}, y este es el importe total {compra_total}\")\n",
    "                            break\n",
    "                        else:\n",
    "                            print(\"no contamos con stock para ese producto\")"
   ]
  },
  {
   "cell_type": "markdown",
   "metadata": {},
   "source": [
    " # PRUEBAS BORRADOR"
   ]
  },
  {
   "cell_type": "code",
   "execution_count": 2,
   "metadata": {},
   "outputs": [],
   "source": [
    "Grafiito = TiendaOnline()\n",
    "Grafiito.agregar_producto(\"lapiz\", 0.25, 45)\n",
    "Grafiito.agregar_producto(\"marcador\", 2.15, 25)\n",
    "Grafiito.agregar_producto(\"bolígrafo\", 2.18, 40)\n",
    "Grafiito.agregar_producto(\"cuaderno\", 3.25, 85)"
   ]
  },
  {
   "cell_type": "code",
   "execution_count": 3,
   "metadata": {},
   "outputs": [
    {
     "name": "stdout",
     "output_type": "stream",
     "text": [
      "[{'nombre': 'lapiz', 'precio': 0.25, 'cantidad': 45}, {'nombre': 'marcador', 'precio': 2.15, 'cantidad': 25}, {'nombre': 'bolígrafo', 'precio': 2.18, 'cantidad': 40}, {'nombre': 'cuaderno', 'precio': 3.25, 'cantidad': 85}]\n"
     ]
    }
   ],
   "source": [
    "print(Grafiito.inventario)"
   ]
  },
  {
   "cell_type": "code",
   "execution_count": 4,
   "metadata": {},
   "outputs": [
    {
     "name": "stdout",
     "output_type": "stream",
     "text": [
      "nombre: lapiz , precio: 0.25 , cantidad 45\n",
      "nombre: marcador , precio: 2.15 , cantidad 25\n",
      "nombre: bolígrafo , precio: 2.18 , cantidad 40\n",
      "nombre: cuaderno , precio: 3.25 , cantidad 85\n"
     ]
    }
   ],
   "source": [
    "Grafiito.ver_inventario()"
   ]
  },
  {
   "cell_type": "code",
   "execution_count": 5,
   "metadata": {},
   "outputs": [
    {
     "name": "stdout",
     "output_type": "stream",
     "text": [
      "el producto libro no está en el inventario\n"
     ]
    }
   ],
   "source": [
    "Grafiito.buscar_producto(\"libro\")"
   ]
  },
  {
   "cell_type": "code",
   "execution_count": 6,
   "metadata": {},
   "outputs": [
    {
     "data": {
      "text/plain": [
       "[{'nombre': 'lapiz', 'precio': 0.25, 'cantidad': 45},\n",
       " {'nombre': 'marcador', 'precio': 2.15, 'cantidad': 25},\n",
       " {'nombre': 'bolígrafo', 'precio': 2.18, 'cantidad': 40},\n",
       " {'nombre': 'cuaderno', 'precio': 3.25, 'cantidad': 88}]"
      ]
     },
     "execution_count": 6,
     "metadata": {},
     "output_type": "execute_result"
    }
   ],
   "source": [
    "Grafiito.actualizar_stock(\"cuaderno\", 3)"
   ]
  },
  {
   "cell_type": "code",
   "execution_count": 7,
   "metadata": {},
   "outputs": [
    {
     "name": "stdout",
     "output_type": "stream",
     "text": [
      "el producto marcador es inexistente\n"
     ]
    },
    {
     "data": {
      "text/plain": [
       "[{'nombre': 'lapiz', 'precio': 0.25, 'cantidad': 45},\n",
       " {'nombre': 'bolígrafo', 'precio': 2.18, 'cantidad': 40},\n",
       " {'nombre': 'cuaderno', 'precio': 3.25, 'cantidad': 88}]"
      ]
     },
     "execution_count": 7,
     "metadata": {},
     "output_type": "execute_result"
    }
   ],
   "source": [
    "Grafiito.eliminar_producto(\"marcador\")"
   ]
  },
  {
   "cell_type": "code",
   "execution_count": 9,
   "metadata": {},
   "outputs": [
    {
     "name": "stdout",
     "output_type": "stream",
     "text": [
      "el valor total del inventario es 384.45€\n"
     ]
    },
    {
     "data": {
      "text/plain": [
       "384.45"
      ]
     },
     "execution_count": 9,
     "metadata": {},
     "output_type": "execute_result"
    }
   ],
   "source": [
    "Grafiito.calcular_valor_inventario()"
   ]
  },
  {
   "cell_type": "code",
   "execution_count": 11,
   "metadata": {},
   "outputs": [
    {
     "name": "stdout",
     "output_type": "stream",
     "text": [
      "nombre: lapiz , precio: 0.25 , cantidad 43\n",
      "nombre: bolígrafo , precio: 2.18 , cantidad 40\n",
      "nombre: cuaderno , precio: 3.25 , cantidad 88\n",
      "estos son tus productos {'nombre': 'lapiz', 'cantidad': 2}, y este es el importe total 0.5\n",
      "nombre: lapiz , precio: 0.25 , cantidad 41\n",
      "nombre: bolígrafo , precio: 2.18 , cantidad 40\n",
      "nombre: cuaderno , precio: 3.25 , cantidad 88\n"
     ]
    }
   ],
   "source": [
    "Grafiito.realizar_compra()"
   ]
  }
 ],
 "metadata": {
  "kernelspec": {
   "display_name": "Python 3",
   "language": "python",
   "name": "python3"
  },
  "language_info": {
   "codemirror_mode": {
    "name": "ipython",
    "version": 3
   },
   "file_extension": ".py",
   "mimetype": "text/x-python",
   "name": "python",
   "nbconvert_exporter": "python",
   "pygments_lexer": "ipython3",
   "version": "3.13.0"
  }
 },
 "nbformat": 4,
 "nbformat_minor": 2
}
